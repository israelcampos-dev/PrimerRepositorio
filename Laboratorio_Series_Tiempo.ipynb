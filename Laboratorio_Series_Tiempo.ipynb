{
  "cells": [
    {
      "cell_type": "code",
      "source": [
        "#########################################################################\n",
        "########------ Ciencia de Datos e IA Generativa con Python ------########\n",
        "#########################################################################\n",
        "# Capacitador: Julio César Bernal Fernández\n",
        "# email: juliobf08@gmail.com\n",
        "# Tema : Laboratorio de Series de Tiempo\n",
        "# versión: 1.0\n",
        "#########################################################################"
      ],
      "metadata": {
        "id": "1LZpTwdCYdSJ"
      },
      "id": "1LZpTwdCYdSJ",
      "execution_count": null,
      "outputs": []
    },
    {
      "cell_type": "markdown",
      "id": "9fa51253",
      "metadata": {
        "id": "9fa51253"
      },
      "source": [
        "\n",
        "# 📈 Series de Tiempo en Colab: AR, MA, ARMA, ARIMA, SARIMA y Prophet (CO2)\n",
        "\n",
        "**Dataset real:** `CO2` (concentración atmosférica de CO₂) de `statsmodels`.  \n",
        "Trabajaremos con una serie **mensual** (promedio mensual), haremos **train/test split**, entrenaremos y compararemos:\n",
        "- **AR(p)**\n",
        "- **MA(q)**\n",
        "- **ARMA(p, q)**\n",
        "- **ARIMA(p, d, q)**\n",
        "- **SARIMA(p, d, q) × (P, D, Q, 12)**\n",
        "- **Prophet** (Facebook/Meta)\n",
        "\n",
        "Se evaluarán con **RMSE / MAE / MAPE**, y se incluye diagnóstico de residuos del mejor modelo.\n"
      ]
    },
    {
      "cell_type": "markdown",
      "source": [
        " **AIC (Akaike Information Criterion)** es una métrica muy usada en estadística y modelos de series de tiempo para comparar modelos.\n",
        "\n",
        "---\n",
        "\n",
        "# 📌 Definición\n",
        "\n",
        "El **Criterio de Información de Akaike (AIC)** mide el equilibrio entre:\n",
        "\n",
        "1. **Bondad de ajuste** (qué tan bien el modelo explica los datos).\n",
        "2. **Complejidad del modelo** (número de parámetros estimados).\n",
        "\n",
        "Su fórmula es:\n",
        "\n",
        "$$\n",
        "AIC = 2k - 2\\ln(\\hat{L})\n",
        "$$\n",
        "\n",
        "donde:\n",
        "\n",
        "* $k$ = número de parámetros del modelo.\n",
        "* $\\hat{L}$ = verosimilitud máxima (likelihood) del modelo.\n",
        "\n",
        "---\n",
        "\n",
        "# 📌 Intuición\n",
        "\n",
        "* **Primer término (2k)**: penaliza modelos con muchos parámetros (evita sobreajuste).\n",
        "* **Segundo término (-2 log L)**: recompensa modelos que se ajustan bien a los datos.\n",
        "\n",
        "Así, el **AIC busca el modelo más parsimonioso**: el que explica bien los datos con el menor número de parámetros.\n",
        "\n",
        "---\n",
        "\n",
        "# 📌 Interpretación\n",
        "\n",
        "* **Cuanto más bajo sea el AIC, mejor es el modelo** (entre modelos comparables).\n",
        "* El AIC **no es un test absoluto**, solo sirve para **comparar modelos entrenados sobre los mismos datos**.\n",
        "* Una diferencia de:\n",
        "\n",
        "  * **0–2** → evidencia débil (ambos modelos son casi igual de buenos).\n",
        "  * **4–7** → evidencia considerable en contra del modelo con mayor AIC.\n",
        "  * **>10** → evidencia muy fuerte en contra del modelo con mayor AIC.\n",
        "\n",
        "---\n",
        "\n",
        "# 📌 Ejemplo práctico en series de tiempo\n",
        "\n",
        "Cuando ajustamos **ARIMA/SARIMA**, probamos diferentes órdenes `(p,d,q)` o `(p,d,q)x(P,D,Q,s)`.\n",
        "\n",
        "* Cada modelo tendrá un **AIC diferente**.\n",
        "* Elegimos aquel con el **menor AIC**, pues balancea ajuste y simplicidad.\n",
        "\n",
        "---\n",
        "\n",
        "# 📌 Diferencias con BIC\n",
        "\n",
        "El **BIC (Bayesian Information Criterion)** es similar pero **penaliza más fuerte** la complejidad (porque usa $\\ln(n)$ en lugar de 2).\n",
        "\n",
        "* AIC tiende a elegir modelos más complejos.\n",
        "* BIC favorece modelos más simples (sobre todo con muestras grandes).\n",
        "\n",
        "---\n",
        "\n",
        "✅ En resumen:\n",
        "El **AIC** es un criterio para seleccionar modelos que equilibra ajuste y parsimonia. Siempre se usa de forma **comparativa**, y el **mejor modelo es el que tiene el AIC más bajo**.\n",
        "\n",
        "\n"
      ],
      "metadata": {
        "id": "W29E1yBVY-PK"
      },
      "id": "W29E1yBVY-PK"
    },
    {
      "cell_type": "markdown",
      "id": "b6708a3a",
      "metadata": {
        "id": "b6708a3a"
      },
      "source": [
        "## 0) Instalación (solo Colab)"
      ]
    },
    {
      "cell_type": "code",
      "execution_count": null,
      "id": "e1a2be8a",
      "metadata": {
        "id": "e1a2be8a"
      },
      "outputs": [],
      "source": [
        "!pip -q install prophet"
      ]
    },
    {
      "cell_type": "markdown",
      "id": "727fd56a",
      "metadata": {
        "id": "727fd56a"
      },
      "source": [
        "## 1) Imports y utilidades"
      ]
    },
    {
      "cell_type": "code",
      "execution_count": null,
      "id": "647e0abe",
      "metadata": {
        "id": "647e0abe"
      },
      "outputs": [],
      "source": [
        "import numpy as np\n",
        "import pandas as pd\n",
        "import matplotlib.pyplot as plt\n",
        "\n",
        "from sklearn.metrics import mean_squared_error, mean_absolute_error\n",
        "\n",
        "import statsmodels.api as sm\n",
        "from statsmodels.tsa.arima.model import ARIMA\n",
        "from statsmodels.tsa.statespace.sarimax import SARIMAX\n",
        "from statsmodels.tsa.stattools import adfuller\n",
        "from statsmodels.stats.diagnostic import acorr_ljungbox\n",
        "\n",
        "try:\n",
        "    # Prophet (Meta)\n",
        "    from prophet import Prophet\n",
        "except Exception as e:\n",
        "    Prophet = None\n",
        "    print(\"Prophet no disponible aún. Ejecuta la celda de instalación y reinicia el kernel si es necesario.\")\n",
        "\n",
        "# === Métricas ===\n",
        "def rmse(y_true, y_pred):\n",
        "    return np.sqrt(mean_squared_error(y_true, y_pred))\n",
        "\n",
        "def mape(y_true, y_pred):\n",
        "    y_true, y_pred = np.array(y_true), np.array(y_pred)\n",
        "    return np.mean(np.abs((y_true - y_pred) / y_true)) * 100\n",
        "\n",
        "pd.options.display.float_format = '{:,.4f}'.format"
      ]
    },
    {
      "cell_type": "markdown",
      "id": "6a3b50de",
      "metadata": {
        "id": "6a3b50de"
      },
      "source": [
        "\n",
        "## 2) Cargar dataset real: CO₂ (statsmodels)\n",
        "\n",
        "- El dataset `co2` viene en `statsmodels`.\n",
        "- Resampleamos a **mensual** con media y realizamos **interpolación** de faltantes.\n"
      ]
    },
    {
      "cell_type": "code",
      "source": [
        "# Cargar\n",
        "data = sm.datasets.co2.load_pandas().data"
      ],
      "metadata": {
        "id": "OA8QLFnqYn0y"
      },
      "id": "OA8QLFnqYn0y",
      "execution_count": null,
      "outputs": []
    },
    {
      "cell_type": "code",
      "source": [
        "# La columna 'co2' está indexada semanalmente; convertimos a datetime y resampleamos mensual\n",
        "data = data.asfreq('W-SAT')  # garantizar frecuencia semanal en sábado\n",
        "data = data['co2'].to_frame()\n",
        "data.index = pd.to_datetime(data.index)"
      ],
      "metadata": {
        "id": "XpRE_l4-YqGH"
      },
      "id": "XpRE_l4-YqGH",
      "execution_count": null,
      "outputs": []
    },
    {
      "cell_type": "code",
      "source": [
        "# Promedio mensual y completar faltantes por interpolación\n",
        "y_m = data['co2'].resample('MS').mean().interpolate('linear')\n",
        "ts = y_m.rename('y')"
      ],
      "metadata": {
        "id": "t-ZxKbu8Yq3f"
      },
      "id": "t-ZxKbu8Yq3f",
      "execution_count": null,
      "outputs": []
    },
    {
      "cell_type": "code",
      "execution_count": null,
      "id": "15a95095",
      "metadata": {
        "id": "15a95095"
      },
      "outputs": [],
      "source": [
        "# Visualizar\n",
        "print(ts.head())\n",
        "ax = ts.plot(figsize=(10,4))\n",
        "ax.set_title(\"CO₂ mensual (ppm) — promedio/interpolado\")\n",
        "ax.set_xlabel(\"Fecha\")\n",
        "ax.set_ylabel(\"ppm\")\n",
        "plt.show()"
      ]
    },
    {
      "cell_type": "markdown",
      "id": "97ce7745",
      "metadata": {
        "id": "97ce7745"
      },
      "source": [
        "## 3) Train/Test split"
      ]
    },
    {
      "cell_type": "code",
      "execution_count": null,
      "id": "4212676d",
      "metadata": {
        "id": "4212676d"
      },
      "outputs": [],
      "source": [
        "h = 36  # horizonte de test (36 meses)\n",
        "train, test = ts.iloc[:-h], ts.iloc[-h:]\n",
        "print(\"Tamaño train:\", train.shape, \"| test:\", test.shape)"
      ]
    },
    {
      "cell_type": "markdown",
      "id": "e42446b5",
      "metadata": {
        "id": "e42446b5"
      },
      "source": [
        "\n",
        "## 4) Estacionariedad (ADF) y diferencias de referencia\n",
        "\n",
        "- La serie CO₂ tiene **tendencia** y **estacionalidad** anual.\n",
        "- Para AR/MA/ARMA probamos en niveles (d=0).\n",
        "- Para ARIMA y SARIMA exploramos `d=1` y `D=1` con s=12.\n"
      ]
    },
    {
      "cell_type": "code",
      "execution_count": null,
      "id": "4c30e115",
      "metadata": {
        "id": "4c30e115"
      },
      "outputs": [],
      "source": [
        "def adf_report(series, name=\"\"):\n",
        "    stat, p, lags, nobs, *_ = adfuller(series.dropna(), autolag='AIC')\n",
        "    print(f\"{name} -> ADF: {stat:.4f} | p-value: {p:.4f} | lags: {lags} | nobs: {nobs}\")\n",
        "\n",
        "adf_report(train, \"Train (niveles)\")\n",
        "adf_report(train.diff(), \"Diff-1\")\n",
        "adf_report(train.diff(12), \"Diff-12\")\n",
        "adf_report(train.diff().diff(12), \"Diff-1 & 12\")\n"
      ]
    },
    {
      "cell_type": "markdown",
      "id": "1b6fda1d",
      "metadata": {
        "id": "1b6fda1d"
      },
      "source": [
        "## 5) Función auxiliar: entrenar, pronosticar y evaluar"
      ]
    },
    {
      "cell_type": "code",
      "execution_count": null,
      "id": "7c923909",
      "metadata": {
        "id": "7c923909"
      },
      "outputs": [],
      "source": [
        "def fit_forecast_evaluate(model_name, model, steps, test_index, y_test):\n",
        "    fitted = model.fit()\n",
        "    fc = fitted.forecast(steps=steps)\n",
        "    fc = pd.Series(fc, index=test_index, name=model_name)\n",
        "    metrics = {\n",
        "        \"Modelo\": model_name,\n",
        "        \"RMSE\": rmse(y_test, fc),\n",
        "        \"MAE\": mean_absolute_error(y_test, fc),\n",
        "        \"MAPE(%)\": mape(y_test, fc),\n",
        "        \"AIC\": getattr(fitted, \"aic\", np.nan),\n",
        "        \"BIC\": getattr(fitted, \"bic\", np.nan)\n",
        "    }\n",
        "    return fitted, fc, metrics"
      ]
    },
    {
      "cell_type": "markdown",
      "id": "c4d75f6f",
      "metadata": {
        "id": "c4d75f6f"
      },
      "source": [
        "## 6) AR(p): selección por AIC (p ∈ {1..5})"
      ]
    },
    {
      "cell_type": "code",
      "execution_count": null,
      "id": "75a59806",
      "metadata": {
        "id": "75a59806"
      },
      "outputs": [],
      "source": [
        "best_ar, best_aic_ar, best_fit_ar = None, np.inf, None\n",
        "for p in range(1, 6):\n",
        "    try:\n",
        "        model = ARIMA(train, order=(p,0,0))\n",
        "        res = model.fit()\n",
        "        if res.aic < best_aic_ar:\n",
        "            best_aic_ar, best_ar, best_fit_ar = res.aic, model, res\n",
        "    except Exception:\n",
        "        pass\n",
        "\n",
        "f_ar, fc_ar, m_ar = fit_forecast_evaluate(f\"AR(p={best_ar.order[0]})\", best_ar, h, test.index, test)\n",
        "print(m_ar)"
      ]
    },
    {
      "cell_type": "markdown",
      "id": "26f8aec7",
      "metadata": {
        "id": "26f8aec7"
      },
      "source": [
        "## 7) MA(q): selección por AIC (q ∈ {1..5})"
      ]
    },
    {
      "cell_type": "code",
      "execution_count": null,
      "id": "2d287094",
      "metadata": {
        "id": "2d287094"
      },
      "outputs": [],
      "source": [
        "best_ma, best_aic_ma, best_fit_ma = None, np.inf, None\n",
        "for q in range(1, 6):\n",
        "    try:\n",
        "        model = ARIMA(train, order=(0,0,q))\n",
        "        res = model.fit()\n",
        "        if res.aic < best_aic_ma:\n",
        "            best_aic_ma, best_ma, best_fit_ma = res.aic, model, res\n",
        "    except Exception:\n",
        "        pass\n",
        "\n",
        "f_ma, fc_ma, m_ma = fit_forecast_evaluate(f\"MA(q={best_ma.order[2]})\", best_ma, h, test.index, test)\n",
        "print(m_ma)"
      ]
    },
    {
      "cell_type": "markdown",
      "id": "a9fa8693",
      "metadata": {
        "id": "a9fa8693"
      },
      "source": [
        "## 8) ARMA(p,q): grid pequeño por AIC (p,q ∈ {0..3}, excluye (0,0))"
      ]
    },
    {
      "cell_type": "code",
      "execution_count": null,
      "id": "344cccb3",
      "metadata": {
        "id": "344cccb3"
      },
      "outputs": [],
      "source": [
        "best_arma, best_aic_arma, best_fit_arma = None, np.inf, None\n",
        "for p in range(0, 4):\n",
        "    for q in range(0, 4):\n",
        "        if p == 0 and q == 0:\n",
        "            continue\n",
        "        try:\n",
        "            model = ARIMA(train, order=(p,0,q))\n",
        "            res = model.fit()\n",
        "            if res.aic < best_aic_arma:\n",
        "                best_aic_arma, best_arma, best_fit_arma = res.aic, model, res\n",
        "        except Exception:\n",
        "            pass\n",
        "\n",
        "f_arma, fc_arma, m_arma = fit_forecast_evaluate(f\"ARMA(p={best_arma.order[0]},q={best_arma.order[2]})\", best_arma, h, test.index, test)\n",
        "print(m_arma)"
      ]
    },
    {
      "cell_type": "markdown",
      "id": "04c65920",
      "metadata": {
        "id": "04c65920"
      },
      "source": [
        "## 9) ARIMA(p,1,q): grid por AIC (p,q ∈ {0..3})"
      ]
    },
    {
      "cell_type": "code",
      "execution_count": null,
      "id": "29b65d81",
      "metadata": {
        "id": "29b65d81"
      },
      "outputs": [],
      "source": [
        "best_arima, best_aic_arima, best_fit_arima = None, np.inf, None\n",
        "for p in range(0, 4):\n",
        "    for q in range(0, 4):\n",
        "        try:\n",
        "            model = ARIMA(train, order=(p,1,q))\n",
        "            res = model.fit()\n",
        "            if res.aic < best_aic_arima:\n",
        "                best_aic_arima, best_arima, best_fit_arima = res.aic, model, res\n",
        "        except Exception:\n",
        "            pass\n",
        "\n",
        "f_arima, fc_arima, m_arima = fit_forecast_evaluate(f\"ARIMA(p={best_arima.order[0]},d={best_arima.order[1]},q={best_arima.order[2]})\", best_arima, h, test.index, test)\n",
        "print(m_arima)"
      ]
    },
    {
      "cell_type": "markdown",
      "id": "dfadc2af",
      "metadata": {
        "id": "dfadc2af"
      },
      "source": [
        "## 10) SARIMA(p,d,q)×(P,D,Q,12): parrilla por AIC"
      ]
    },
    {
      "cell_type": "code",
      "execution_count": null,
      "id": "6a036645",
      "metadata": {
        "id": "6a036645"
      },
      "outputs": [],
      "source": [
        "p_vals, d_vals, q_vals = [0,1,2], [0,1], [0,1,2]\n",
        "P_vals, D_vals, Q_vals = [0,1], [0,1], [0,1]\n",
        "s = 12\n",
        "\n",
        "best_sarima, best_aic_sarima, best_fit_sarima = None, np.inf, None\n",
        "for p in p_vals:\n",
        "    for d in d_vals:\n",
        "        for q in q_vals:\n",
        "            for P in P_vals:\n",
        "                for D in D_vals:\n",
        "                    for Q in Q_vals:\n",
        "                        try:\n",
        "                            model = SARIMAX(train, order=(p,d,q),\n",
        "                                            seasonal_order=(P,D,Q,s),\n",
        "                                            enforce_stationarity=False,\n",
        "                                            enforce_invertibility=False)\n",
        "                            res = model.fit()\n",
        "                            if res.aic < best_aic_sarima:\n",
        "                                best_aic_sarima, best_sarima, best_fit_sarima = res.aic, model, res\n",
        "                        except Exception:\n",
        "                            pass\n",
        "\n",
        "sarima_name = f\"SARIMA{best_sarima.order}x{best_sarima.seasonal_order}\"\n",
        "f_sarima, fc_sarima, m_sarima = fit_forecast_evaluate(sarima_name, best_sarima, h, test.index, test)\n",
        "print(m_sarima)"
      ]
    },
    {
      "cell_type": "markdown",
      "id": "76585441",
      "metadata": {
        "id": "76585441"
      },
      "source": [
        "## 11) Prophet (Facebook/Meta)"
      ]
    },
    {
      "cell_type": "code",
      "execution_count": null,
      "id": "ad2b82e5",
      "metadata": {
        "id": "ad2b82e5"
      },
      "outputs": [],
      "source": [
        "if Prophet is None:\n",
        "    print(\"Prophet no importado. Instálalo y vuelve a ejecutar esta celda.\")\n",
        "else:\n",
        "    df_prophet = ts.reset_index().rename(columns={\"index\":\"ds\",\"y\":\"y\"})\n",
        "    df_train = df_prophet.iloc[:-h].copy()\n",
        "    df_test  = df_prophet.iloc[-h:].copy()\n",
        "\n",
        "    m = Prophet(\n",
        "        yearly_seasonality=True,\n",
        "        weekly_seasonality=False,\n",
        "        daily_seasonality=False,\n",
        "        seasonality_mode='additive'  # puedes probar 'multiplicative'\n",
        "    )\n",
        "    m.fit(df_train)\n",
        "\n",
        "    future = m.make_future_dataframe(periods=h, freq=\"MS\")\n",
        "    forecast = m.predict(future)\n",
        "\n",
        "    # Extraer pronóstico para el rango de test\n",
        "    fc_prophet = forecast.set_index(\"ds\").loc[df_test[\"ds\"], \"yhat\"]\n",
        "    fc_prophet.name = \"Prophet\"\n",
        "\n",
        "    m_prophet = {\n",
        "        \"Modelo\": \"Prophet\",\n",
        "        \"RMSE\": rmse(df_test[\"y\"].values, fc_prophet.values),\n",
        "        \"MAE\": mean_absolute_error(df_test[\"y\"].values, fc_prophet.values),\n",
        "        \"MAPE(%)\": mape(df_test[\"y\"].values, fc_prophet.values),\n",
        "        \"AIC\": np.nan,\n",
        "        \"BIC\": np.nan\n",
        "    }\n",
        "    print(m_prophet)\n",
        "\n",
        "    # Plot nativo de Prophet (opcional)\n",
        "    # fig = m.plot(forecast); plt.show()\n"
      ]
    },
    {
      "cell_type": "markdown",
      "id": "13706804",
      "metadata": {
        "id": "13706804"
      },
      "source": [
        "## 12) Comparación de métricas (Test)"
      ]
    },
    {
      "cell_type": "code",
      "execution_count": null,
      "id": "ffad03c4",
      "metadata": {
        "id": "ffad03c4"
      },
      "outputs": [],
      "source": [
        "rows = [m_ar, m_ma, m_arma, m_arima, m_sarima]\n",
        "try:\n",
        "    rows.append(m_prophet)\n",
        "except NameError:\n",
        "    pass\n",
        "results = pd.DataFrame(rows).sort_values(\"RMSE\")\n",
        "results\n"
      ]
    },
    {
      "cell_type": "markdown",
      "id": "0c9f6a13",
      "metadata": {
        "id": "0c9f6a13"
      },
      "source": [
        "## 13) Gráfico: Serie real vs pronósticos (h meses)"
      ]
    },
    {
      "cell_type": "code",
      "execution_count": null,
      "id": "79bdd7ad",
      "metadata": {
        "id": "79bdd7ad"
      },
      "outputs": [],
      "source": [
        "plt.figure(figsize=(11,5))\n",
        "train.plot(label=\"Train\")\n",
        "test.plot(label=\"Test\")\n",
        "fc_ar.plot(label=m_ar[\"Modelo\"])\n",
        "fc_ma.plot(label=m_ma[\"Modelo\"])\n",
        "fc_arma.plot(label=m_arma[\"Modelo\"])\n",
        "fc_arima.plot(label=m_arima[\"Modelo\"])\n",
        "fc_sarima.plot(label=m_sarima[\"Modelo\"])\n",
        "try:\n",
        "    fc_prophet.plot(label=\"Prophet\")\n",
        "except NameError:\n",
        "    pass\n",
        "plt.title(\"Pronósticos sobre Test\")\n",
        "plt.xlabel(\"Fecha\"); plt.ylabel(\"CO₂ (ppm)\")\n",
        "plt.legend()\n",
        "plt.tight_layout()\n",
        "plt.show()\n"
      ]
    },
    {
      "cell_type": "markdown",
      "id": "348bbf53",
      "metadata": {
        "id": "348bbf53"
      },
      "source": [
        "## 14) Diagnóstico de residuos del mejor modelo (según RMSE)"
      ]
    },
    {
      "cell_type": "code",
      "execution_count": null,
      "id": "fd32fde6",
      "metadata": {
        "id": "fd32fde6"
      },
      "outputs": [],
      "source": [
        "best_name = results.iloc[0][\"Modelo\"]\n",
        "fit_map = {\n",
        "    m_ar[\"Modelo\"]: f_ar,\n",
        "    m_ma[\"Modelo\"]: f_ma,\n",
        "    m_arma[\"Modelo\"]: f_arma,\n",
        "    m_arima[\"Modelo\"]: f_arima,\n",
        "    m_sarima[\"Modelo\"]: f_sarima\n",
        "}\n",
        "best_fit = fit_map.get(best_name, None)\n",
        "if best_fit is None and best_name == \"Prophet\":\n",
        "    print(\"Prophet no expone residuos del mismo modo; salta diagnóstico.\")\n",
        "else:\n",
        "    resid = best_fit.resid\n",
        "    print(\"Ljung–Box (lag=12):\")\n",
        "    print(acorr_ljungbox(pd.Series(resid).dropna(), lags=[12], return_df=True))\n",
        "\n",
        "    fig, ax = plt.subplots(1,2, figsize=(10,4))\n",
        "    ax[0].plot(resid); ax[0].set_title(f\"Residuos — {best_name}\")\n",
        "    sm.qqplot(pd.Series(resid).dropna(), line=\"s\", ax=ax[1])\n",
        "    ax[1].set_title(\"QQ-plot residuos\")\n",
        "    plt.tight_layout(); plt.show()\n"
      ]
    }
  ],
  "metadata": {
    "colab": {
      "provenance": []
    },
    "language_info": {
      "name": "python"
    },
    "kernelspec": {
      "name": "python3",
      "display_name": "Python 3"
    }
  },
  "nbformat": 4,
  "nbformat_minor": 5
}